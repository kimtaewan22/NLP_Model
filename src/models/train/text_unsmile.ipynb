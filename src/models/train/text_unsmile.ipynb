{
 "cells": [
  {
   "cell_type": "code",
   "execution_count": 1,
   "metadata": {},
   "outputs": [],
   "source": [
    "import pandas as pd"
   ]
  },
  {
   "cell_type": "code",
   "execution_count": 3,
   "metadata": {},
   "outputs": [],
   "source": [
    "file_path = \"/jf-training-home/NLP_Model/datasets_rw/input/unsmile_train_v1.0.tsv\"\n",
    "\n",
    "koreanUnsmileTrain = pd.read_csv(file_path, delimiter='\\t', encoding='utf-8')"
   ]
  },
  {
   "cell_type": "code",
   "execution_count": 4,
   "metadata": {},
   "outputs": [
    {
     "name": "stdout",
     "output_type": "stream",
     "text": [
      "                                                  문장  여성/가족  남성  성소수자  인종/국적  \\\n",
      "0                             일안하는 시간은 쉬고싶어서 그런게 아닐까      0   0     0      0   \n",
      "1  아동성범죄와 페도버는 기록바 끊어져 영원히 고통 받는다. 무슬림 50퍼 근친이다. ...      0   0     0      0   \n",
      "2  루나 솔로앨범 나왔을 때부터 머모 기운 있었음 ㅇㅇ Keep o  doin 진짜 띵...      0   0     0      0   \n",
      "3  홍팍에도 어버이연합인가 보내요 뭐 이런뎃글 있는데 이거 어버이연합측에 신고하면 그쪽...      0   0     0      0   \n",
      "4  아놔 왜 여기 댓들은 다 여자들이 김치녀라고 먼저 불렸다! 여자들은 더 심하게 그런...      1   0     0      0   \n",
      "\n",
      "   연령  지역  종교  기타 혐오  악플/욕설  clean  개인지칭  \n",
      "0   0   0   0      0      0      1     0  \n",
      "1   0   0   1      0      0      0     0  \n",
      "2   0   0   0      0      0      1     0  \n",
      "3   0   0   0      0      0      1     0  \n",
      "4   0   0   0      0      0      0     0  \n"
     ]
    }
   ],
   "source": [
    "print(koreanUnsmileTrain.head())"
   ]
  },
  {
   "cell_type": "code",
   "execution_count": 5,
   "metadata": {},
   "outputs": [
    {
     "name": "stdout",
     "output_type": "stream",
     "text": [
      "              여성/가족            남성          성소수자         인종/국적            연령  \\\n",
      "count  15005.000000  15005.000000  15005.000000  15005.000000  15005.000000   \n",
      "mean       0.106564      0.089770      0.076041      0.115162      0.040187   \n",
      "std        0.308569      0.285862      0.265073      0.319228      0.196403   \n",
      "min        0.000000      0.000000      0.000000      0.000000      0.000000   \n",
      "25%        0.000000      0.000000      0.000000      0.000000      0.000000   \n",
      "50%        0.000000      0.000000      0.000000      0.000000      0.000000   \n",
      "75%        0.000000      0.000000      0.000000      0.000000      0.000000   \n",
      "max        1.000000      1.000000      1.000000      1.000000      1.000000   \n",
      "\n",
      "                 지역            종교         기타 혐오         악플/욕설         clean  \\\n",
      "count  15005.000000  15005.000000  15005.000000  15005.000000  15005.000000   \n",
      "mean       0.070110      0.078707      0.037921      0.209464      0.249184   \n",
      "std        0.255341      0.269290      0.191011      0.406939      0.432555   \n",
      "min        0.000000      0.000000      0.000000      0.000000      0.000000   \n",
      "25%        0.000000      0.000000      0.000000      0.000000      0.000000   \n",
      "50%        0.000000      0.000000      0.000000      0.000000      0.000000   \n",
      "75%        0.000000      0.000000      0.000000      0.000000      0.000000   \n",
      "max        1.000000      1.000000      1.000000      1.000000      1.000000   \n",
      "\n",
      "               개인지칭  \n",
      "count  15005.000000  \n",
      "mean       0.020993  \n",
      "std        0.143365  \n",
      "min        0.000000  \n",
      "25%        0.000000  \n",
      "50%        0.000000  \n",
      "75%        0.000000  \n",
      "max        1.000000  \n"
     ]
    }
   ],
   "source": [
    "print(koreanUnsmileTrain.describe())"
   ]
  },
  {
   "cell_type": "code",
   "execution_count": null,
   "metadata": {},
   "outputs": [],
   "source": []
  },
  {
   "cell_type": "code",
   "execution_count": null,
   "metadata": {},
   "outputs": [],
   "source": []
  }
 ],
 "metadata": {
  "kernelspec": {
   "display_name": "Python 3",
   "language": "python",
   "name": "python3"
  },
  "language_info": {
   "codemirror_mode": {
    "name": "ipython",
    "version": 3
   },
   "file_extension": ".py",
   "mimetype": "text/x-python",
   "name": "python",
   "nbconvert_exporter": "python",
   "pygments_lexer": "ipython3",
   "version": "3.6.9"
  }
 },
 "nbformat": 4,
 "nbformat_minor": 2
}
