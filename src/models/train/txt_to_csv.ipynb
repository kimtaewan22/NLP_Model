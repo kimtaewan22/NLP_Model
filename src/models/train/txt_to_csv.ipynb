{
 "cells": [
  {
   "cell_type": "code",
   "execution_count": 1,
   "metadata": {},
   "outputs": [],
   "source": [
    "import pandas as pd\n",
    "\n",
    "# 텍스트 파일 경로\n",
    "text_file_path = '/jf-training-home/datasets_rw/input/ratings_test.txt'\n",
    "\n",
    "# CSV 파일 경로\n",
    "csv_file_path = '/jf-training-home/datasets_rw/input/ratings_test.csv'\n",
    "\n",
    "# 텍스트 파일을 DataFrame으로 읽어오기\n",
    "df = pd.read_csv(text_file_path, delimiter='\\t', header=None)  # delimiter는 파일의 구분자에 따라 변경\n",
    "\n",
    "# DataFrame을 CSV 파일로 저장\n",
    "df.to_csv(csv_file_path, index=False, header=False)  # index 및 header 설정은 필요에 따라 변경\n"
   ]
  }
 ],
 "metadata": {
  "kernelspec": {
   "display_name": "Python 3",
   "language": "python",
   "name": "python3"
  },
  "language_info": {
   "codemirror_mode": {
    "name": "ipython",
    "version": 3
   },
   "file_extension": ".py",
   "mimetype": "text/x-python",
   "name": "python",
   "nbconvert_exporter": "python",
   "pygments_lexer": "ipython3",
   "version": "3.6.9"
  }
 },
 "nbformat": 4,
 "nbformat_minor": 2
}
