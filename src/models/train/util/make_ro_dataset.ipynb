{
 "cells": [
  {
   "cell_type": "markdown",
   "metadata": {},
   "source": [
    "### 데이터셋 불러오기"
   ]
  },
  {
   "cell_type": "code",
   "execution_count": 12,
   "metadata": {},
   "outputs": [],
   "source": [
    "import pandas as pd\n",
    "\n",
    "file_path_hate = \"/jf-training-home/NLP_Model/datasets_rw/input/korean_hate_speech.tsv\"\n",
    "file_path_nsmc_test = \"/jf-training-home/NLP_Model/datasets_rw/input/ratings_test.csv\"\n",
    "file_path_nsmc_train = \"/jf-training-home/NLP_Model/datasets_rw/input/ratings_train.csv\"\n",
    "\n",
    "\n",
    "koreanHateSpeech = pd.read_csv(file_path_hate, delimiter='\\t', encoding='utf-8')\n",
    "nsmcData_test = pd.read_csv(file_path_nsmc_test, delimiter=',', encoding='utf-8')\n",
    "nsmcData_train = pd.read_csv(file_path_nsmc_train, delimiter=',', encoding='utf-8')"
   ]
  },
  {
   "cell_type": "markdown",
   "metadata": {},
   "source": [
    "### 사용할 컬럼만 놔두고 드랍"
   ]
  },
  {
   "cell_type": "code",
   "execution_count": 13,
   "metadata": {},
   "outputs": [
    {
     "name": "stdout",
     "output_type": "stream",
     "text": [
      "1    25173\n",
      "0    24827\n",
      "Name: hate, dtype: int64\n"
     ]
    }
   ],
   "source": [
    "# 'label'이 1이고 결측치가 없는 행을 필터링하고 'label' 및 'id' 열을 삭제\n",
    "shuffled_data_test = (\n",
    "    nsmcData_test\n",
    "    .dropna(subset=['label', 'id'])\n",
    "    .assign(comments=lambda x: x['document'].astype(str))\n",
    "    .reset_index(drop=True)\n",
    "    .drop(columns=['id', 'document'])\n",
    "    .rename(columns={'label': 'hate'})\n",
    ")\n",
    "\n",
    "# 결과 출력\n",
    "print(shuffled_data_test['hate'].value_counts())\n"
   ]
  },
  {
   "cell_type": "code",
   "execution_count": 14,
   "metadata": {},
   "outputs": [
    {
     "name": "stdout",
     "output_type": "stream",
     "text": [
      "0    75173\n",
      "1    74827\n",
      "Name: hate, dtype: int64\n"
     ]
    }
   ],
   "source": [
    "# 'label'이 1이고 결측치가 없는 행을 필터링하고 'label' 및 'id' 열을 삭제\n",
    "shuffled_data_train = (\n",
    "    nsmcData_train\n",
    "    .dropna(subset=['label', 'id'])\n",
    "    .assign(comments=lambda x: x['document'].astype(str))\n",
    "    .reset_index(drop=True)\n",
    "    .drop(columns=['id', 'document'])\n",
    "    .rename(columns={'label': 'hate'})\n",
    ")\n",
    "\n",
    "# 결과 출력\n",
    "print(shuffled_data_train['hate'].value_counts())"
   ]
  },
  {
   "cell_type": "code",
   "execution_count": 15,
   "metadata": {},
   "outputs": [
    {
     "name": "stdout",
     "output_type": "stream",
     "text": [
      "       hate                                           comments\n",
      "0         1                                                굳 ㅋ\n",
      "1         0                               GDNTOPCLASSINTHECLUB\n",
      "2         0             뭐야 이 평점들은.... 나쁘진 않지만 10점 짜리는 더더욱 아니잖아\n",
      "3         0                   지루하지는 않은데 완전 막장임... 돈주고 보기에는....\n",
      "4         0  3D만 아니었어도 별 다섯 개 줬을텐데.. 왜 3D로 나와서 제 심기를 불편하게 하죠??\n",
      "...     ...                                                ...\n",
      "49995     1          오랜만에 평점 로긴했네ㅋㅋ 킹왕짱 쌈뽕한 영화를 만났습니다 강렬하게 육쾌함\n",
      "49996     0         의지 박약들이나 하는거다 탈영은 일단 주인공 김대희 닮았고 이등병 찐따 OO\n",
      "49997     0                 그림도 좋고 완성도도 높았지만... 보는 내내 불안하게 만든다\n",
      "49998     0     절대 봐서는 안 될 영화.. 재미도 없고 기분만 잡치고.. 한 세트장에서 다 해먹네\n",
      "49999     0                                         마무리는 또 왜이래\n",
      "\n",
      "[50000 rows x 2 columns]\n"
     ]
    }
   ],
   "source": [
    "from text_cleaning_1 import clean\n",
    "\n",
    "shuffled_data_test['comments'] = shuffled_data_test['comments'].apply(clean)\n",
    "print(shuffled_data_test)"
   ]
  },
  {
   "cell_type": "code",
   "execution_count": 16,
   "metadata": {},
   "outputs": [
    {
     "name": "stdout",
     "output_type": "stream",
     "text": [
      "        hate                                           comments\n",
      "0          0                                아 더빙.. 진짜 짜증나네요 목소리\n",
      "1          1                  흠...포스터보고 초딩영화줄....오버연기조차 가볍지 않구나\n",
      "2          0                                  너무재밓었다그래서보는것을추천한다\n",
      "3          0                      교도소 이야기구먼 ..솔직히 재미는 없다..평점 조정\n",
      "4          1  사이몬페그의 익살스런 연기가 돋보였던 영화!스파이더맨에서 늙어보이기만 했던 커스틴 ...\n",
      "...      ...                                                ...\n",
      "149995     0                                인간이 문제지.. 소는 뭔죄인가..\n",
      "149996     1                                      평점이 너무 낮아서...\n",
      "149997     0                    이게 뭐요? 한국인은 거들먹거리고 필리핀 혼혈은 착하다?\n",
      "149998     1                        청춘 영화의 최고봉.방황과 우울했던 날들의 자화상\n",
      "149999     0                           한국 영화 최초로 수간하는 내용이 담긴 영화\n",
      "\n",
      "[150000 rows x 2 columns]\n"
     ]
    }
   ],
   "source": [
    "shuffled_data_train['comments'] = shuffled_data_train['comments'].apply(clean)\n",
    "print(shuffled_data_train)"
   ]
  },
  {
   "cell_type": "code",
   "execution_count": 17,
   "metadata": {},
   "outputs": [],
   "source": [
    "# DataFrame을 CSV 파일로 저장\n",
    "shuffled_data_train = shuffled_data_train.rename(columns={'comments': 'text', 'hate': 'label'})\n",
    "shuffled_data_train.to_csv(\"/jf-training-home/NLP_Model/datasets_ro/nsmc_train.csv\", index=False)  # index 및 header 설정은 필요에 따라 변경\n"
   ]
  },
  {
   "cell_type": "code",
   "execution_count": 18,
   "metadata": {},
   "outputs": [],
   "source": [
    "shuffled_data_test = shuffled_data_test.rename(columns={'comments': 'text', 'hate': 'label'})\n",
    "shuffled_data_test.to_csv(\"/jf-training-home/NLP_Model/datasets_ro/nsmc_test.csv\", index=False)  # index 및 header 설정은 필요에 따라 변경"
   ]
  },
  {
   "cell_type": "markdown",
   "metadata": {},
   "source": [
    "### korean_hate_speech 데이터셋\n"
   ]
  },
  {
   "cell_type": "code",
   "execution_count": 19,
   "metadata": {},
   "outputs": [
    {
     "name": "stdout",
     "output_type": "stream",
     "text": [
      "hate 컬럼의 0과 1의 개수:\n",
      "1    4410\n",
      "0    3486\n",
      "Name: hate, dtype: int64\n"
     ]
    }
   ],
   "source": [
    "hateLabelMap = {'none': 0, 'hate': 1, 'offensive': 1}\n",
    "\n",
    "# 'comments'와 'hate' 컬럼을 남기고 나머지 컬럼은 제거\n",
    "koreanHateSpeech = koreanHateSpeech[['comments', 'hate']].assign(hate=koreanHateSpeech['hate'].map(hateLabelMap))\n",
    "\n",
    "# 'hate' 컬럼의 0과 1의 개수 출력\n",
    "hate_counts = koreanHateSpeech['hate'].value_counts()\n",
    "print(\"hate 컬럼의 0과 1의 개수:\")\n",
    "print(hate_counts)"
   ]
  },
  {
   "cell_type": "code",
   "execution_count": 20,
   "metadata": {},
   "outputs": [
    {
     "name": "stdout",
     "output_type": "stream",
     "text": [
      "                                                   text  label\n",
      "0     (현재 호텔주인 심정) 아18 난 마른하늘에 날벼락맞고 호텔망하게생겼는데 누군 계속...      1\n",
      "1     ....한국적인 미인의 대표적인 분...너무나 곱고아름다운모습...그모습뒤의 슬픔을...      0\n",
      "2     ...못된 넘들...남의 고통을 즐겼던 넘들..이젠 마땅한 처벌을 받아야지..,그래...      1\n",
      "3                    1,2화 어설펐는데 3,4화 지나서부터는 갈수록 너무 재밌던데      0\n",
      "4     1. 사람 얼굴 손톱으로 긁은것은 인격살해이고2. 동영상이 몰카냐? 메걸리안들 생각...      1\n",
      "...                                                 ...    ...\n",
      "7891                                      힘내세요~ 응원합니다!!      0\n",
      "7892                             힘내세요~~삼가 고인의 명복을 빕니다..      0\n",
      "7893                              힘내세용 ^^ 항상 응원합니닷 ^^ !      0\n",
      "7894  힘내소...연기로 답해요.나도 53살 인데 이런일 저런일 다 있더라구요.인격을 믿습...      0\n",
      "7895                                 힘들면 관뒀어야지 그게 현명한거다      0\n",
      "\n",
      "[7896 rows x 2 columns]\n"
     ]
    }
   ],
   "source": [
    "koreanHateSpeech['comments'] = koreanHateSpeech['comments'].apply(clean)\n",
    "koreanHateSpeech = koreanHateSpeech.rename(columns={'comments': 'text', 'hate': 'label'})\n",
    "\n",
    "print(koreanHateSpeech)"
   ]
  },
  {
   "cell_type": "code",
   "execution_count": 21,
   "metadata": {},
   "outputs": [],
   "source": [
    "koreanHateSpeech_test = koreanHateSpeech.rename(columns={'comments': 'text', 'hate': 'label'})\n",
    "koreanHateSpeech_test.to_csv(\"/jf-training-home/NLP_Model/datasets_ro/korean_hate_speech.csv\", index=False)  # index 및 header 설정은 필요에 따라 변경"
   ]
  },
  {
   "cell_type": "markdown",
   "metadata": {},
   "source": [
    "### 모든 데이터셋 통합"
   ]
  },
  {
   "cell_type": "code",
   "execution_count": 22,
   "metadata": {},
   "outputs": [
    {
     "name": "stdout",
     "output_type": "stream",
     "text": [
      "1    104410\n",
      "0    103486\n",
      "Name: label, dtype: int64\n"
     ]
    }
   ],
   "source": [
    "# 세 데이터셋을 합침\n",
    "merged_data = pd.concat([koreanHateSpeech_test, shuffled_data_train, shuffled_data_test])\n",
    "\n",
    "# 결과 출력\n",
    "print(merged_data['label'].value_counts())"
   ]
  },
  {
   "cell_type": "code",
   "execution_count": 11,
   "metadata": {},
   "outputs": [],
   "source": [
    "merged_data.to_csv(\"/jf-training-home/NLP_Model/datasets_ro/merged_data_clean.csv\", index=False, header=True)  # index 및 header 설정은 필요에 따라 변경"
   ]
  }
 ],
 "metadata": {
  "kernelspec": {
   "display_name": "Python 3",
   "language": "python",
   "name": "python3"
  },
  "language_info": {
   "codemirror_mode": {
    "name": "ipython",
    "version": 3
   },
   "file_extension": ".py",
   "mimetype": "text/x-python",
   "name": "python",
   "nbconvert_exporter": "python",
   "pygments_lexer": "ipython3",
   "version": "3.6.9"
  }
 },
 "nbformat": 4,
 "nbformat_minor": 2
}
