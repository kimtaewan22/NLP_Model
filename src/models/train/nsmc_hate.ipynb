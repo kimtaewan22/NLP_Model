{
 "cells": [
  {
   "cell_type": "markdown",
   "metadata": {},
   "source": [
    "### nsmc 및 hate 데이터셋 업로드"
   ]
  },
  {
   "cell_type": "code",
   "execution_count": 39,
   "metadata": {},
   "outputs": [],
   "source": [
    "import pandas as pd\n",
    "\n",
    "file_path_hate = \"/jf-training-home/NLP_Model/datasets_rw/input/korean_hate_speech.tsv\"\n",
    "file_path_nsmc = \"/jf-training-home/NLP_Model/datasets_rw/input/ratings_test.csv\"\n",
    "\n",
    "koreanHateSpeech = pd.read_csv(file_path_hate, delimiter='\\t', encoding='utf-8')\n",
    "nsmcData = pd.read_csv(file_path_nsmc, delimiter=',', encoding='utf-8')\n"
   ]
  },
  {
   "cell_type": "markdown",
   "metadata": {},
   "source": [
    "### 사용할 컬럼만 놔두고 드랍"
   ]
  },
  {
   "cell_type": "code",
   "execution_count": 40,
   "metadata": {},
   "outputs": [
    {
     "name": "stdout",
     "output_type": "stream",
     "text": [
      "1    25173\n",
      "0    24827\n",
      "Name: hate, dtype: int64\n"
     ]
    }
   ],
   "source": [
    "# 'label'이 1이고 결측치가 없는 행을 필터링하고 'label' 및 'id' 열을 삭제\n",
    "shuffled_data = (\n",
    "    nsmcData\n",
    "    .dropna(subset=['label', 'id'])\n",
    "    .assign(comments=lambda x: x['document'].astype(str))\n",
    "    .reset_index(drop=True)\n",
    "    .drop(columns=['id', 'document'])\n",
    "    .rename(columns={'label': 'hate'})\n",
    ")\n",
    "\n",
    "# 결과 출력\n",
    "print(shuffled_data['hate'].value_counts())\n"
   ]
  },
  {
   "cell_type": "code",
   "execution_count": 41,
   "metadata": {},
   "outputs": [
    {
     "name": "stdout",
     "output_type": "stream",
     "text": [
      "hate 컬럼의 0과 1의 개수:\n",
      "1    4410\n",
      "0    3486\n",
      "Name: hate, dtype: int64\n"
     ]
    }
   ],
   "source": [
    "hateLabelMap = {'none': 0, 'hate': 1, 'offensive': 1}\n",
    "\n",
    "# 'comments'와 'hate' 컬럼을 남기고 나머지 컬럼은 제거\n",
    "koreanHateSpeech = koreanHateSpeech[['comments', 'hate']].assign(hate=koreanHateSpeech['hate'].map(hateLabelMap))\n",
    "\n",
    "# 'hate' 컬럼의 0과 1의 개수 출력\n",
    "hate_counts = koreanHateSpeech['hate'].value_counts()\n",
    "print(\"hate 컬럼의 0과 1의 개수:\")\n",
    "print(hate_counts)\n"
   ]
  },
  {
   "cell_type": "markdown",
   "metadata": {},
   "source": [
    "### 텍스트 정제 "
   ]
  },
  {
   "cell_type": "code",
   "execution_count": 42,
   "metadata": {},
   "outputs": [
    {
     "name": "stdout",
     "output_type": "stream",
     "text": [
      "       hate                                       comments\n",
      "0         1                                             굳 \n",
      "1         0                           gdntopclassintheclub\n",
      "2         0             뭐야 이 평점들은 나쁘진 않지만 10점 짜리는 더더욱 아니잖아\n",
      "3         0                      지루하지는 않은데 완전 막장임 돈주고 보기에는\n",
      "4         0  3d만 아니었어도 별 다섯 개 줬을텐데 왜 3d로 나와서 제 심기를 불편하게 하죠\n",
      "...     ...                                            ...\n",
      "49995     1        오랜만에 평점 로긴했네 킹왕짱 쌈뽕한 영화를 만났습니다 강렬하게 육쾌함\n",
      "49996     0   의지 박약들이나 하는거다 탈영은 일단 주인공 김대희 닮았고 이등병 찐따 oooo\n",
      "49997     0                그림도 좋고 완성도도 높았지만 보는 내내 불안하게 만든다\n",
      "49998     0     절대 봐서는 안 될 영화 재미도 없고 기분만 잡치고 한 세트장에서 다 해먹네\n",
      "49999     0                                     마무리는 또 왜이래\n",
      "\n",
      "[50000 rows x 2 columns]\n"
     ]
    }
   ],
   "source": [
    "from util.text_cleaning import cleaning_text\n",
    "\n",
    "shuffled_data['comments'] = shuffled_data['comments'].apply(cleaning_text)\n",
    "print(shuffled_data)"
   ]
  },
  {
   "cell_type": "code",
   "execution_count": 43,
   "metadata": {},
   "outputs": [],
   "source": [
    "koreanHateSpeech['comments'] = koreanHateSpeech['comments'].apply(cleaning_text)"
   ]
  },
  {
   "cell_type": "markdown",
   "metadata": {},
   "source": [
    "### 데이터셋 병합"
   ]
  },
  {
   "cell_type": "code",
   "execution_count": 46,
   "metadata": {},
   "outputs": [
    {
     "name": "stdout",
     "output_type": "stream",
     "text": [
      "1    29583\n",
      "0    28313\n",
      "Name: label, dtype: int64\n"
     ]
    }
   ],
   "source": [
    "# koreanHateSpeech와 shuffled_data의 컬럼명을 통일\n",
    "koreanHateSpeech = koreanHateSpeech.rename(columns={'comments': 'text', 'hate': 'label'})\n",
    "shuffled_data = shuffled_data.rename(columns={'comments': 'text', 'hate': 'label'})\n",
    "\n",
    "# 두 데이터셋을 합침\n",
    "merged_data = pd.concat([koreanHateSpeech, shuffled_data], ignore_index=True)\n",
    "\n",
    "# 결과 출력\n",
    "print(merged_data['label'].value_counts())\n"
   ]
  },
  {
   "cell_type": "markdown",
   "metadata": {},
   "source": [
    "### 훈련 및 테스트셋 분할"
   ]
  },
  {
   "cell_type": "code",
   "execution_count": 47,
   "metadata": {},
   "outputs": [],
   "source": [
    "from sklearn.model_selection import train_test_split\n",
    "\n",
    "train_texts, test_texts, train_labels, test_labels = train_test_split(\n",
    "    merged_data['text'].tolist(), merged_data['label'].tolist(), test_size=0.2, random_state=42\n",
    ")"
   ]
  },
  {
   "cell_type": "markdown",
   "metadata": {},
   "source": [
    "### 데이터셋 및 데이터 로더 생성"
   ]
  },
  {
   "cell_type": "code",
   "execution_count": 48,
   "metadata": {},
   "outputs": [],
   "source": [
    "from transformers import BertTokenizer, BertForSequenceClassification, AdamW\n",
    "\n",
    "tokenizer = BertTokenizer.from_pretrained('bert-base-multilingual-cased')\n",
    "\n",
    "\n",
    "train_encodings = tokenizer.batch_encode_plus(\n",
    "    train_texts, add_special_tokens=True, max_length=128, padding='max_length', truncation=True, return_tensors='pt'\n",
    ")\n",
    "test_encodings = tokenizer.batch_encode_plus(\n",
    "    test_texts, add_special_tokens=True, max_length=128, padding='max_length', truncation=True, return_tensors='pt'\n",
    ")"
   ]
  },
  {
   "cell_type": "markdown",
   "metadata": {},
   "source": [
    "### 모델, 옵티마이저, 손실 함수 정의 및 평가 함수"
   ]
  },
  {
   "cell_type": "code",
   "execution_count": 49,
   "metadata": {},
   "outputs": [
    {
     "name": "stderr",
     "output_type": "stream",
     "text": [
      "Some weights of the model checkpoint at bert-base-multilingual-cased were not used when initializing BertForSequenceClassification: ['cls.predictions.transform.dense.weight', 'cls.predictions.bias', 'cls.predictions.transform.LayerNorm.bias', 'cls.seq_relationship.weight', 'cls.seq_relationship.bias', 'cls.predictions.decoder.weight', 'cls.predictions.transform.dense.bias', 'cls.predictions.transform.LayerNorm.weight']\n",
      "- This IS expected if you are initializing BertForSequenceClassification from the checkpoint of a model trained on another task or with another architecture (e.g. initializing a BertForSequenceClassification model from a BertForPreTraining model).\n",
      "- This IS NOT expected if you are initializing BertForSequenceClassification from the checkpoint of a model that you expect to be exactly identical (initializing a BertForSequenceClassification model from a BertForSequenceClassification model).\n",
      "Some weights of BertForSequenceClassification were not initialized from the model checkpoint at bert-base-multilingual-cased and are newly initialized: ['classifier.bias', 'classifier.weight']\n",
      "You should probably TRAIN this model on a down-stream task to be able to use it for predictions and inference.\n",
      "/jf-training-home/.local/lib/python3.6/site-packages/transformers/optimization.py:309: FutureWarning: This implementation of AdamW is deprecated and will be removed in a future version. Use the PyTorch implementation torch.optim.AdamW instead, or set `no_deprecation_warning=True` to disable this warning\n",
      "  FutureWarning,\n"
     ]
    }
   ],
   "source": [
    "import torch\n",
    "model = BertForSequenceClassification.from_pretrained('bert-base-multilingual-cased', num_labels=2)\n",
    "model.to(torch.device(\"cuda\" if torch.cuda.is_available() else \"cpu\"))\n",
    "\n",
    "# 옵티마이저 및 손실 함수 정의\n",
    "optimizer = AdamW(model.parameters(), lr=1e-5)\n",
    "criterion = torch.nn.CrossEntropyLoss()"
   ]
  },
  {
   "cell_type": "markdown",
   "metadata": {},
   "source": [
    "### 데이터셋 및 데이터 로더 생성"
   ]
  },
  {
   "cell_type": "code",
   "execution_count": 51,
   "metadata": {},
   "outputs": [],
   "source": [
    "from util.koreanHateSpeechDataset import KoreanHateSpeechDataset\n",
    "from torch.utils.data import DataLoader\n",
    "\n",
    "# 데이터셋 생성\n",
    "train_dataset = KoreanHateSpeechDataset(train_encodings, train_labels)\n",
    "test_dataset = KoreanHateSpeechDataset(test_encodings, test_labels)\n",
    "\n",
    "# 데이터 로더 생성\n",
    "train_loader = DataLoader(train_dataset, batch_size=64, shuffle=True)\n",
    "test_loader = DataLoader(test_dataset, batch_size=64, shuffle=False)\n"
   ]
  },
  {
   "cell_type": "markdown",
   "metadata": {},
   "source": [
    "### 모델 학습 및 훈련"
   ]
  },
  {
   "cell_type": "code",
   "execution_count": 53,
   "metadata": {},
   "outputs": [
    {
     "name": "stderr",
     "output_type": "stream",
     "text": [
      "Epoch 2/10:   0%|          | 1/724 [00:00<01:37,  7.41it/s, loss=0.000565]"
     ]
    },
    {
     "name": "stdout",
     "output_type": "stream",
     "text": [
      "Epoch 1/10 - Loss: 0.5585, Test Accuracy: 0.7567\n"
     ]
    },
    {
     "name": "stderr",
     "output_type": "stream",
     "text": [
      "Epoch 3/10:   0%|          | 1/724 [00:00<01:28,  8.14it/s, loss=0.000603]"
     ]
    },
    {
     "name": "stdout",
     "output_type": "stream",
     "text": [
      "Epoch 2/10 - Loss: 0.4504, Test Accuracy: 0.7605\n"
     ]
    },
    {
     "name": "stderr",
     "output_type": "stream",
     "text": [
      "Epoch 4/10:   0%|          | 1/724 [00:00<01:28,  8.17it/s, loss=0.000555]"
     ]
    },
    {
     "name": "stdout",
     "output_type": "stream",
     "text": [
      "Epoch 3/10 - Loss: 0.3991, Test Accuracy: 0.7872\n"
     ]
    },
    {
     "name": "stderr",
     "output_type": "stream",
     "text": [
      "Epoch 5/10:   0%|          | 1/724 [00:00<01:23,  8.64it/s, loss=0.000444]"
     ]
    },
    {
     "name": "stdout",
     "output_type": "stream",
     "text": [
      "Epoch 4/10 - Loss: 0.3539, Test Accuracy: 0.7948\n"
     ]
    },
    {
     "name": "stderr",
     "output_type": "stream",
     "text": [
      "Epoch 6/10:   0%|          | 1/724 [00:00<01:23,  8.64it/s, loss=0.000234]"
     ]
    },
    {
     "name": "stdout",
     "output_type": "stream",
     "text": [
      "Epoch 5/10 - Loss: 0.3110, Test Accuracy: 0.7983\n"
     ]
    },
    {
     "name": "stderr",
     "output_type": "stream",
     "text": [
      "Epoch 7/10:   0%|          | 1/724 [00:00<01:24,  8.60it/s, loss=0.00026] "
     ]
    },
    {
     "name": "stdout",
     "output_type": "stream",
     "text": [
      "Epoch 6/10 - Loss: 0.2699, Test Accuracy: 0.7907\n"
     ]
    },
    {
     "name": "stderr",
     "output_type": "stream",
     "text": [
      "Epoch 8/10:   0%|          | 1/724 [00:00<01:27,  8.22it/s, loss=0.000285]"
     ]
    },
    {
     "name": "stdout",
     "output_type": "stream",
     "text": [
      "Epoch 7/10 - Loss: 0.2325, Test Accuracy: 0.7949\n"
     ]
    },
    {
     "name": "stderr",
     "output_type": "stream",
     "text": [
      "Epoch 9/10:   0%|          | 1/724 [00:00<01:23,  8.62it/s, loss=0.000185]"
     ]
    },
    {
     "name": "stdout",
     "output_type": "stream",
     "text": [
      "Epoch 8/10 - Loss: 0.1954, Test Accuracy: 0.7919\n"
     ]
    },
    {
     "name": "stderr",
     "output_type": "stream",
     "text": [
      "Epoch 10/10:   0%|          | 1/724 [00:00<01:23,  8.61it/s, loss=8.22e-5]"
     ]
    },
    {
     "name": "stdout",
     "output_type": "stream",
     "text": [
      "Epoch 9/10 - Loss: 0.1712, Test Accuracy: 0.7934\n"
     ]
    },
    {
     "name": "stderr",
     "output_type": "stream",
     "text": [
      "                                                                           \r"
     ]
    },
    {
     "name": "stdout",
     "output_type": "stream",
     "text": [
      "Epoch 10/10 - Loss: 0.1418, Test Accuracy: 0.7928\n"
     ]
    }
   ],
   "source": [
    "import matplotlib.pyplot as plt\n",
    "from tqdm import tqdm\n",
    "from util.evaluate import evaluate\n",
    "import torch.nn.functional as F\n",
    "\n",
    "num_epochs = 10\n",
    "losses = []\n",
    "accuracies = []\n",
    "\n",
    "\n",
    "for epoch in range(num_epochs):\n",
    "    model.train()\n",
    "    total_loss = 0\n",
    "    progress_bar = tqdm(train_loader, desc=f'Epoch {epoch+1}/{num_epochs}', leave=False)\n",
    "\n",
    "    for batch in progress_bar:\n",
    "        input_ids = batch['input_ids'].to(model.device)\n",
    "        labels = batch['labels'].to(model.device)\n",
    "        optimizer.zero_grad()\n",
    "\n",
    "        outputs = model(input_ids, labels=labels)\n",
    "        loss =  F.cross_entropy(outputs.logits, labels)\n",
    "\n",
    "        loss.backward()\n",
    "        optimizer.step()\n",
    "        total_loss += loss.item()\n",
    "        progress_bar.set_postfix(loss=total_loss / len(train_loader))\n",
    "\n",
    "    avg_loss = total_loss / len(train_loader)\n",
    "    test_accuracy = evaluate(model, test_loader)\n",
    "    accuracies.append(test_accuracy)\n",
    "    losses.append(avg_loss)\n",
    "    # 출력: 각 epoch에서의 accuracy와 loss\n",
    "    print(f\"Epoch {epoch+1}/{num_epochs} - Loss: {avg_loss:.4f}, Test Accuracy: {test_accuracy:.4f}\")\n",
    "\n",
    "# 학습이 완료된 후 모델 저장\n",
    "torch.save(model.state_dict(), '/jf-training-home/NLP_Model/src/models/checkpoints/model.pth')    \n",
    "\n"
   ]
  },
  {
   "cell_type": "code",
   "execution_count": 54,
   "metadata": {},
   "outputs": [
    {
     "name": "stdout",
     "output_type": "stream",
     "text": [
      "Confusion Matrix:\n",
      "[[4348 1301]\n",
      " [1098 4833]]\n",
      "\n",
      "Classification Report:\n",
      "              precision    recall  f1-score   support\n",
      "\n",
      "           0       0.80      0.77      0.78      5649\n",
      "           1       0.79      0.81      0.80      5931\n",
      "\n",
      "    accuracy                           0.79     11580\n",
      "   macro avg       0.79      0.79      0.79     11580\n",
      "weighted avg       0.79      0.79      0.79     11580\n",
      "\n"
     ]
    },
    {
     "data": {
      "image/png": "[encoded data removed]",
      "text/plain": [
       "<Figure size 864x360 with 2 Axes>"
      ]
     },
     "metadata": {
      "needs_background": "light"
     },
     "output_type": "display_data"
    }
   ],
   "source": [
    "from sklearn.metrics import confusion_matrix, classification_report\n",
    "\n",
    "\n",
    "# 테스트 데이터에서의 예측값과 실제값을 가져와서 혼동 행렬 계산\n",
    "model.eval()\n",
    "all_predictions = []\n",
    "all_labels = []\n",
    "\n",
    "with torch.no_grad():\n",
    "    for batch in test_loader:\n",
    "        input_ids = batch['input_ids'].to(model.device)\n",
    "        labels = batch['labels'].to(model.device)\n",
    "\n",
    "        outputs = model(input_ids)\n",
    "        predictions = torch.argmax(outputs.logits, dim=1)\n",
    "\n",
    "        all_predictions.extend(predictions.cpu().numpy())\n",
    "        all_labels.extend(labels.cpu().numpy())\n",
    "\n",
    "# 혼동 행렬 계산\n",
    "conf_matrix = confusion_matrix(all_labels, all_predictions)\n",
    "\n",
    "# 출력: 혼동 행렬과 성능 지표\n",
    "print(\"Confusion Matrix:\")\n",
    "print(conf_matrix)\n",
    "print(\"\\nClassification Report:\")\n",
    "print(classification_report(all_labels, all_predictions))\n",
    "\n",
    "# Plotting the loss and test accuracy\n",
    "plt.figure(figsize=(12, 5))\n",
    "plt.subplot(1, 2, 1)\n",
    "plt.plot(range(1, num_epochs + 1), losses, label='Training Loss')\n",
    "plt.xlabel('Epochs')\n",
    "plt.ylabel('Loss')\n",
    "plt.title('Training Loss over Epochs')\n",
    "plt.legend()\n",
    "\n",
    "plt.subplot(1, 2, 2)\n",
    "plt.plot(range(1, num_epochs + 1), accuracies, label='Test Accuracy', color='orange')\n",
    "plt.xlabel('Epochs')\n",
    "plt.ylabel('Accuracy')\n",
    "plt.title('Test Accuracy over Epochs')\n",
    "plt.legend()\n",
    "\n",
    "plt.tight_layout()\n",
    "plt.show()"
   ]
  }
 ],
 "metadata": {
  "kernelspec": {
   "display_name": "Python 3",
   "language": "python",
   "name": "python3"
  },
  "language_info": {
   "codemirror_mode": {
    "name": "ipython",
    "version": 3
   },
   "file_extension": ".py",
   "mimetype": "text/x-python",
   "name": "python",
   "nbconvert_exporter": "python",
   "pygments_lexer": "ipython3",
   "version": "3.6.9"
  }
 },
 "nbformat": 4,
 "nbformat_minor": 2
}
