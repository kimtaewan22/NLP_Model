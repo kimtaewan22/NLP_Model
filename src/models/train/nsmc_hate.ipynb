{
 "cells": [
  {
   "cell_type": "markdown",
   "metadata": {},
   "source": [
    "### nsmc 및 hate 데이터셋 업로드"
   ]
  },
  {
   "cell_type": "code",
   "execution_count": 39,
   "metadata": {},
   "outputs": [],
   "source": [
    "import pandas as pd\n",
    "\n",
    "file_path_hate = \"/jf-training-home/NLP_Model/datasets_rw/input/korean_hate_speech.tsv\"\n",
    "file_path_nsmc = \"/jf-training-home/NLP_Model/datasets_rw/input/ratings_test.csv\"\n",
    "\n",
    "koreanHateSpeech = pd.read_csv(file_path_hate, delimiter='\\t', encoding='utf-8')\n",
    "nsmcData = pd.read_csv(file_path_nsmc, delimiter=',', encoding='utf-8')\n"
   ]
  },
  {
   "cell_type": "markdown",
   "metadata": {},
   "source": [
    "### 사용할 컬럼만 놔두고 드랍"
   ]
  },
  {
   "cell_type": "code",
   "execution_count": 40,
   "metadata": {},
   "outputs": [
    {
     "name": "stdout",
     "output_type": "stream",
     "text": [
      "1    25173\n",
      "0    24827\n",
      "Name: hate, dtype: int64\n"
     ]
    }
   ],
   "source": [
    "# 'label'이 1이고 결측치가 없는 행을 필터링하고 'label' 및 'id' 열을 삭제\n",
    "shuffled_data = (\n",
    "    nsmcData\n",
    "    .dropna(subset=['label', 'id'])\n",
    "    .assign(comments=lambda x: x['document'].astype(str))\n",
    "    .reset_index(drop=True)\n",
    "    .drop(columns=['id', 'document'])\n",
    "    .rename(columns={'label': 'hate'})\n",
    ")\n",
    "\n",
    "# 결과 출력\n",
    "print(shuffled_data['hate'].value_counts())\n"
   ]
  },
  {
   "cell_type": "code",
   "execution_count": 41,
   "metadata": {},
   "outputs": [
    {
     "name": "stdout",
     "output_type": "stream",
     "text": [
      "hate 컬럼의 0과 1의 개수:\n",
      "1    4410\n",
      "0    3486\n",
      "Name: hate, dtype: int64\n"
     ]
    }
   ],
   "source": [
    "hateLabelMap = {'none': 0, 'hate': 1, 'offensive': 1}\n",
    "\n",
    "# 'comments'와 'hate' 컬럼을 남기고 나머지 컬럼은 제거\n",
    "koreanHateSpeech = koreanHateSpeech[['comments', 'hate']].assign(hate=koreanHateSpeech['hate'].map(hateLabelMap))\n",
    "\n",
    "# 'hate' 컬럼의 0과 1의 개수 출력\n",
    "hate_counts = koreanHateSpeech['hate'].value_counts()\n",
    "print(\"hate 컬럼의 0과 1의 개수:\")\n",
    "print(hate_counts)\n"
   ]
  },
  {
   "cell_type": "markdown",
   "metadata": {},
   "source": [
    "### 텍스트 정제 "
   ]
  },
  {
   "cell_type": "code",
   "execution_count": 42,
   "metadata": {},
   "outputs": [
    {
     "name": "stdout",
     "output_type": "stream",
     "text": [
      "       hate                                       comments\n",
      "0         1                                             굳 \n",
      "1         0                           gdntopclassintheclub\n",
      "2         0             뭐야 이 평점들은 나쁘진 않지만 10점 짜리는 더더욱 아니잖아\n",
      "3         0                      지루하지는 않은데 완전 막장임 돈주고 보기에는\n",
      "4         0  3d만 아니었어도 별 다섯 개 줬을텐데 왜 3d로 나와서 제 심기를 불편하게 하죠\n",
      "...     ...                                            ...\n",
      "49995     1        오랜만에 평점 로긴했네 킹왕짱 쌈뽕한 영화를 만났습니다 강렬하게 육쾌함\n",
      "49996     0   의지 박약들이나 하는거다 탈영은 일단 주인공 김대희 닮았고 이등병 찐따 oooo\n",
      "49997     0                그림도 좋고 완성도도 높았지만 보는 내내 불안하게 만든다\n",
      "49998     0     절대 봐서는 안 될 영화 재미도 없고 기분만 잡치고 한 세트장에서 다 해먹네\n",
      "49999     0                                     마무리는 또 왜이래\n",
      "\n",
      "[50000 rows x 2 columns]\n"
     ]
    }
   ],
   "source": [
    "from util.text_cleaning import cleaning_text\n",
    "\n",
    "shuffled_data['comments'] = shuffled_data['comments'].apply(cleaning_text)\n",
    "print(shuffled_data)"
   ]
  },
  {
   "cell_type": "code",
   "execution_count": 43,
   "metadata": {},
   "outputs": [],
   "source": [
    "koreanHateSpeech['comments'] = koreanHateSpeech['comments'].apply(cleaning_text)"
   ]
  },
  {
   "cell_type": "code",
   "execution_count": null,
   "metadata": {},
   "outputs": [],
   "source": []
  },
  {
   "cell_type": "code",
   "execution_count": null,
   "metadata": {},
   "outputs": [],
   "source": []
  }
 ],
 "metadata": {
  "kernelspec": {
   "display_name": "Python 3",
   "language": "python",
   "name": "python3"
  },
  "language_info": {
   "codemirror_mode": {
    "name": "ipython",
    "version": 3
   },
   "file_extension": ".py",
   "mimetype": "text/x-python",
   "name": "python",
   "nbconvert_exporter": "python",
   "pygments_lexer": "ipython3",
   "version": "3.6.9"
  }
 },
 "nbformat": 4,
 "nbformat_minor": 2
}
