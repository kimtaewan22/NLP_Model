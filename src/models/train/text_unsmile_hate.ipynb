{
 "cells": [
  {
   "cell_type": "code",
   "execution_count": 75,
   "metadata": {},
   "outputs": [],
   "source": [
    "import pandas as pd"
   ]
  },
  {
   "cell_type": "code",
   "execution_count": 76,
   "metadata": {},
   "outputs": [],
   "source": [
    "file_path_hate = \"/jf-training-home/NLP_Model/datasets_rw/input/korean_hate_speech.tsv\"\n",
    "file_path_unsmile = \"/jf-training-home/NLP_Model/datasets_rw/input/unsmile_train_v1.0.tsv\"\n",
    "\n",
    "koreanUnsmileTrainData = pd.read_csv(file_path_unsmile, delimiter='\\t', encoding='utf-8')\n",
    "koreanHateSpeech = pd.read_csv(file_path_hate, delimiter='\\t', encoding='utf-8')\n"
   ]
  },
  {
   "cell_type": "code",
   "execution_count": 77,
   "metadata": {},
   "outputs": [],
   "source": [
    "label_map = {'none': 0, 'hate': 1, 'offensive': 1}\n",
    "koreanHateSpeech['hate'] = koreanHateSpeech['hate'].map(label_map)"
   ]
  },
  {
   "cell_type": "code",
   "execution_count": 78,
   "metadata": {},
   "outputs": [
    {
     "name": "stdout",
     "output_type": "stream",
     "text": [
      "                                                      문장  악플/욕설\n",
      "0                                 일안하는 시간은 쉬고싶어서 그런게 아닐까      0\n",
      "1      아동성범죄와 페도버는 기록바 끊어져 영원히 고통 받는다. 무슬림 50퍼 근친이다. ...      0\n",
      "2      루나 솔로앨범 나왔을 때부터 머모 기운 있었음 ㅇㅇ Keep o  doin 진짜 띵...      0\n",
      "3      홍팍에도 어버이연합인가 보내요 뭐 이런뎃글 있는데 이거 어버이연합측에 신고하면 그쪽...      0\n",
      "4      아놔 왜 여기 댓들은 다 여자들이 김치녀라고 먼저 불렸다! 여자들은 더 심하게 그런...      0\n",
      "...                                                  ...    ...\n",
      "15000                                          께롱께롱께롱!!!      0\n",
      "15001                              갱상도가아니라 홍어지 개좃같은 홍어년들      0\n",
      "15002                           말레이시아랑 인도네시아 여자 존나 못생겼던데      0\n",
      "15003                              링크도 안박고 가서 글 쓰자고 선동하네      1\n",
      "15004  멸치가 틀딱 짜증나서 트러블나면 조직적으로 좀스럽게 보복함ex: 수건찜유도탄, 틀한...      0\n",
      "\n",
      "[15005 rows x 2 columns]\n"
     ]
    }
   ],
   "source": [
    "koreanUnsmileTrainDataSelected = koreanUnsmileTrainData[[\"문장\",\"악플/욕설\"]]\n",
    "print(koreanUnsmileTrainDataSelected)"
   ]
  },
  {
   "cell_type": "code",
   "execution_count": 79,
   "metadata": {},
   "outputs": [
    {
     "name": "stdout",
     "output_type": "stream",
     "text": [
      "                                               comments  contain_gender_bias  \\\n",
      "0     (현재 호텔주인 심정) 아18 난 마른하늘에 날벼락맞고 호텔망하게생겼는데 누군 계속...                False   \n",
      "1     ....한국적인 미인의 대표적인 분...너무나 곱고아름다운모습...그모습뒤의 슬픔을...                False   \n",
      "2     ...못된 넘들...남의 고통을 즐겼던 넘들..이젠 마땅한 처벌을 받아야지..,그래...                False   \n",
      "3                    1,2화 어설펐는데 3,4화 지나서부터는 갈수록 너무 재밌던데                False   \n",
      "4     1. 사람 얼굴 손톱으로 긁은것은 인격살해이고2. 동영상이 몰카냐? 메걸리안들 생각...                 True   \n",
      "...                                                 ...                  ...   \n",
      "7891                                      힘내세요~ 응원합니다!!                False   \n",
      "7892                             힘내세요~~삼가 고인의 명복을 빕니다..                False   \n",
      "7893                              힘내세용 ^^ 항상 응원합니닷 ^^ !                False   \n",
      "7894  힘내소...연기로 답해요.나도 53살 인데 이런일 저런일 다 있더라구요.인격을 믿습...                False   \n",
      "7895                                 힘들면 관뒀어야지 그게 현명한거다                False   \n",
      "\n",
      "        bias  hate  \n",
      "0     others     1  \n",
      "1       none     0  \n",
      "2       none     1  \n",
      "3       none     0  \n",
      "4     gender     1  \n",
      "...      ...   ...  \n",
      "7891    none     0  \n",
      "7892    none     0  \n",
      "7893    none     0  \n",
      "7894    none     0  \n",
      "7895    none     0  \n",
      "\n",
      "[7896 rows x 4 columns]\n"
     ]
    }
   ],
   "source": [
    "print(koreanHateSpeech)"
   ]
  },
  {
   "cell_type": "markdown",
   "metadata": {},
   "source": [
    "# text 정제 적용 후 저장"
   ]
  },
  {
   "cell_type": "code",
   "execution_count": 80,
   "metadata": {},
   "outputs": [
    {
     "name": "stdout",
     "output_type": "stream",
     "text": [
      "                                               comments  hate\n",
      "0     현재 호텔주인 심정 아18 난 마른하늘에 날벼락맞고 호텔망하게생겼는데 누군 계속 추모받네     1\n",
      "1        한국적인 미인의 대표적인 분너무나 곱고아름다운모습그모습뒤의 슬픔을 미처 알지못했네요     0\n",
      "2     못된 넘들남의 고통을 즐겼던 넘들이젠 마땅한 처벌을 받아야지그래야 공정한 사회지심은...     1\n",
      "3                      12화 어설펐는데 34화 지나서부터는 갈수록 너무 재밌던데     0\n",
      "4       1 사람 얼굴 손톱으로 긁은것은 인격살해이고2 동영상이 몰카냐 메걸리안들 생각이 없노     1\n",
      "...                                                 ...   ...\n",
      "7891                                         힘내세요 응원합니다     0\n",
      "7892                                 힘내세요삼가 고인의 명복을 빕니다     0\n",
      "7893                                   힘내세용  항상 응원합니닷       0\n",
      "7894      힘내소연기로 답해요나도 53살 인데 이런일 저런일 다 있더라구요인격을 믿습니다홨팅     0\n",
      "7895                                 힘들면 관뒀어야지 그게 현명한거다     0\n",
      "\n",
      "[7896 rows x 2 columns]\n"
     ]
    },
    {
     "name": "stderr",
     "output_type": "stream",
     "text": [
      "/usr/local/lib/python3.6/dist-packages/ipykernel_launcher.py:3: SettingWithCopyWarning: \n",
      "A value is trying to be set on a copy of a slice from a DataFrame.\n",
      "Try using .loc[row_indexer,col_indexer] = value instead\n",
      "\n",
      "See the caveats in the documentation: https://pandas.pydata.org/pandas-docs/stable/user_guide/indexing.html#returning-a-view-versus-a-copy\n",
      "  This is separate from the ipykernel package so we can avoid doing imports until\n"
     ]
    }
   ],
   "source": [
    "from text_cleaning import cleaning_text\n",
    "# '문장' 컬럼에 cleaning_text 함수 적용\n",
    "koreanUnsmileTrainDataSelected['문장'] = koreanUnsmileTrainDataSelected['문장'].apply(cleaning_text)\n",
    "# '문장' 컬럼 이름을 'comments'로 변경\n",
    "koreanUnsmileTrainDataSelected = koreanUnsmileTrainDataSelected.rename(columns={'문장': 'comments', '악플/욕설': 'comments'})\n",
    "\n",
    "koreanHateSpeech['comments'] = koreanHateSpeech['comments'].apply(cleaning_text)\n",
    "\n",
    "koreanHateSpeechSelected = koreanHateSpeech[[\"comments\",\"hate\"]]\n",
    "\n",
    "print(koreanHateSpeechSelected)"
   ]
  },
  {
   "cell_type": "code",
   "execution_count": 81,
   "metadata": {},
   "outputs": [
    {
     "name": "stdout",
     "output_type": "stream",
     "text": [
      "                                               comments  hate\n",
      "0                                일안하는 시간은 쉬고싶어서 그런게 아닐까     0\n",
      "1     아동성범죄와 페도버는 기록바 끊어져 영원히 고통 받는다 무슬림 50퍼 근친이다 10...     0\n",
      "2     루나 솔로앨범 나왔을 때부터 머모 기운 있었음  keep o  doin 진짜 띵곡임...     0\n",
      "3     홍팍에도 어버이연합인가 보내요 뭐 이런뎃글 있는데 이거 어버이연합측에 신고하면 그쪽...     0\n",
      "4     아놔 왜 여기 댓들은 다 여자들이 김치녀라고 먼저 불렸다 여자들은 더 심하게 그런다...     0\n",
      "...                                                 ...   ...\n",
      "7891                                         힘내세요 응원합니다     0\n",
      "7892                                 힘내세요삼가 고인의 명복을 빕니다     0\n",
      "7893                                   힘내세용  항상 응원합니닷       0\n",
      "7894      힘내소연기로 답해요나도 53살 인데 이런일 저런일 다 있더라구요인격을 믿습니다홨팅     0\n",
      "7895                                 힘들면 관뒀어야지 그게 현명한거다     0\n",
      "\n",
      "[22901 rows x 2 columns]\n"
     ]
    }
   ],
   "source": [
    "koreanUnsmileTrainDataSelected.columns = koreanHateSpeechSelected.columns\n",
    "\n",
    "merged_data = pd.concat([koreanUnsmileTrainDataSelected, koreanHateSpeechSelected])\n",
    "print(merged_data)"
   ]
  },
  {
   "cell_type": "markdown",
   "metadata": {},
   "source": [
    "## 훈련 및 테스트 데이터 분할"
   ]
  },
  {
   "cell_type": "code",
   "execution_count": 82,
   "metadata": {},
   "outputs": [],
   "source": [
    "from sklearn.model_selection import train_test_split\n",
    "\n",
    "train_texts, test_texts, train_labels, test_labels = train_test_split(\n",
    "    merged_data['comments'].tolist(), merged_data['hate'].tolist(), test_size=0.2, random_state=42\n",
    ")"
   ]
  },
  {
   "cell_type": "markdown",
   "metadata": {},
   "source": [
    "## 데이터셋 및 데이터 로더 생성"
   ]
  },
  {
   "cell_type": "code",
   "execution_count": 83,
   "metadata": {},
   "outputs": [],
   "source": [
    "from transformers import BertTokenizer, BertForSequenceClassification, AdamW\n",
    "\n",
    "tokenizer = BertTokenizer.from_pretrained('bert-base-multilingual-cased')\n",
    "\n",
    "\n",
    "train_encodings = tokenizer.batch_encode_plus(\n",
    "    train_texts, add_special_tokens=True, max_length=128, padding='max_length', truncation=True, return_tensors='pt'\n",
    ")\n",
    "test_encodings = tokenizer.batch_encode_plus(\n",
    "    test_texts, add_special_tokens=True, max_length=128, padding='max_length', truncation=True, return_tensors='pt'\n",
    ")"
   ]
  },
  {
   "cell_type": "markdown",
   "metadata": {},
   "source": [
    "## 모델, 옵티마이저, 손실 함수 정의 및 평가 함수"
   ]
  },
  {
   "cell_type": "code",
   "execution_count": 84,
   "metadata": {},
   "outputs": [
    {
     "name": "stderr",
     "output_type": "stream",
     "text": [
      "Some weights of the model checkpoint at bert-base-multilingual-cased were not used when initializing BertForSequenceClassification: ['cls.seq_relationship.weight', 'cls.predictions.transform.LayerNorm.weight', 'cls.predictions.transform.dense.weight', 'cls.predictions.transform.dense.bias', 'cls.predictions.decoder.weight', 'cls.predictions.transform.LayerNorm.bias', 'cls.seq_relationship.bias', 'cls.predictions.bias']\n",
      "- This IS expected if you are initializing BertForSequenceClassification from the checkpoint of a model trained on another task or with another architecture (e.g. initializing a BertForSequenceClassification model from a BertForPreTraining model).\n",
      "- This IS NOT expected if you are initializing BertForSequenceClassification from the checkpoint of a model that you expect to be exactly identical (initializing a BertForSequenceClassification model from a BertForSequenceClassification model).\n",
      "Some weights of BertForSequenceClassification were not initialized from the model checkpoint at bert-base-multilingual-cased and are newly initialized: ['classifier.weight', 'classifier.bias']\n",
      "You should probably TRAIN this model on a down-stream task to be able to use it for predictions and inference.\n",
      "/jf-training-home/.local/lib/python3.6/site-packages/transformers/optimization.py:309: FutureWarning: This implementation of AdamW is deprecated and will be removed in a future version. Use the PyTorch implementation torch.optim.AdamW instead, or set `no_deprecation_warning=True` to disable this warning\n",
      "  FutureWarning,\n"
     ]
    }
   ],
   "source": [
    "import torch\n",
    "model = BertForSequenceClassification.from_pretrained('bert-base-multilingual-cased', num_labels=2)\n",
    "model.to(torch.device(\"cuda\" if torch.cuda.is_available() else \"cpu\"))\n",
    "\n",
    "# 옵티마이저 및 손실 함수 정의\n",
    "optimizer = AdamW(model.parameters(), lr=1e-5)\n",
    "criterion = torch.nn.CrossEntropyLoss()"
   ]
  },
  {
   "cell_type": "markdown",
   "metadata": {},
   "source": [
    "## 데이터셋 및 데이터 로더 생성"
   ]
  },
  {
   "cell_type": "code",
   "execution_count": 85,
   "metadata": {},
   "outputs": [],
   "source": [
    "from koreanHateSpeechDataset import KoreanHateSpeechDataset\n",
    "from torch.utils.data import DataLoader\n",
    "\n",
    "# 데이터셋 생성\n",
    "train_dataset = KoreanHateSpeechDataset(train_encodings, train_labels)\n",
    "test_dataset = KoreanHateSpeechDataset(test_encodings, test_labels)\n",
    "\n",
    "# 데이터 로더 생성\n",
    "train_loader = DataLoader(train_dataset, batch_size=32, shuffle=True)\n",
    "test_loader = DataLoader(test_dataset, batch_size=32, shuffle=False)\n"
   ]
  },
  {
   "cell_type": "code",
   "execution_count": 86,
   "metadata": {},
   "outputs": [
    {
     "name": "stdout",
     "output_type": "stream",
     "text": [
      "0    15348\n",
      "1     7553\n",
      "Name: hate, dtype: int64\n"
     ]
    }
   ],
   "source": [
    "label_counts = merged_data['hate'].value_counts()\n",
    "print(label_counts)"
   ]
  },
  {
   "cell_type": "code",
   "execution_count": 93,
   "metadata": {},
   "outputs": [],
   "source": [
    "from focal_loss import FocalLoss\n",
    "# Focal Loss 정의\n",
    "focal_criterion = FocalLoss(alpha=1, gamma=2, reduction='mean')"
   ]
  },
  {
   "cell_type": "markdown",
   "metadata": {},
   "source": [
    "## 훈련 및 루프"
   ]
  },
  {
   "cell_type": "code",
   "execution_count": 94,
   "metadata": {},
   "outputs": [
    {
     "name": "stderr",
     "output_type": "stream",
     "text": [
      "                                                                           \r"
     ]
    },
    {
     "data": {
      "image/png": "[encoded data removed]",
      "text/plain": [
       "<Figure size 864x360 with 2 Axes>"
      ]
     },
     "metadata": {
      "needs_background": "light"
     },
     "output_type": "display_data"
    }
   ],
   "source": [
    "import matplotlib.pyplot as plt\n",
    "from tqdm import tqdm\n",
    "from evaluate import evaluate\n",
    "import torch\n",
    "\n",
    "num_epochs = 10\n",
    "losses = []\n",
    "accuracies = []\n",
    "\n",
    "for epoch in range(num_epochs):\n",
    "    model.train()\n",
    "    total_loss = 0\n",
    "    progress_bar = tqdm(train_loader, desc=f'Epoch {epoch+1}/{num_epochs}', leave=False)\n",
    "\n",
    "    for batch in progress_bar:\n",
    "        input_ids = batch['input_ids'].to(model.device)\n",
    "        labels = batch['labels'].to(model.device)\n",
    "        optimizer.zero_grad()\n",
    "        outputs = model(input_ids, labels=labels)\n",
    "        logits = outputs.logits\n",
    "        loss = focal_criterion(logits, labels)  # Focal Loss 사용        loss.backward()\n",
    "        optimizer.step()\n",
    "        total_loss += loss.item()\n",
    "        progress_bar.set_postfix(loss=total_loss / len(train_loader))\n",
    "\n",
    "    avg_loss = total_loss / len(train_loader)\n",
    "    test_accuracy = evaluate(model, test_loader)\n",
    "    accuracies.append(test_accuracy)\n",
    "    losses.append(avg_loss)\n",
    "\n",
    "# Plotting the loss and test accuracy\n",
    "plt.figure(figsize=(12, 5))\n",
    "plt.subplot(1, 2, 1)\n",
    "plt.plot(range(1, num_epochs + 1), losses, label='Training Loss')\n",
    "plt.xlabel('Epochs')\n",
    "plt.ylabel('Loss')\n",
    "plt.title('Training Loss over Epochs')\n",
    "plt.legend()\n",
    "\n",
    "plt.subplot(1, 2, 2)\n",
    "plt.plot(range(1, num_epochs + 1), accuracies, label='Test Accuracy', color='orange')\n",
    "plt.xlabel('Epochs')\n",
    "plt.ylabel('Accuracy')\n",
    "plt.title('Test Accuracy over Epochs')\n",
    "plt.legend()\n",
    "\n",
    "plt.tight_layout()\n",
    "plt.show()\n"
   ]
  }
 ],
 "metadata": {
  "kernelspec": {
   "display_name": "Python 3",
   "language": "python",
   "name": "python3"
  },
  "language_info": {
   "codemirror_mode": {
    "name": "ipython",
    "version": 3
   },
   "file_extension": ".py",
   "mimetype": "text/x-python",
   "name": "python",
   "nbconvert_exporter": "python",
   "pygments_lexer": "ipython3",
   "version": "3.6.9"
  }
 },
 "nbformat": 4,
 "nbformat_minor": 2
}
